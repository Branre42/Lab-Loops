{
  "nbformat": 4,
  "nbformat_minor": 0,
  "metadata": {
    "colab": {
      "provenance": [],
      "authorship_tag": "ABX9TyObiof49/IRVNF13Tfco/9X",
      "include_colab_link": true
    },
    "kernelspec": {
      "name": "python3",
      "display_name": "Python 3"
    },
    "language_info": {
      "name": "python"
    }
  },
  "cells": [
    {
      "cell_type": "markdown",
      "metadata": {
        "id": "view-in-github",
        "colab_type": "text"
      },
      "source": [
        "<a href=\"https://colab.research.google.com/github/Branre42/Lab-Loops/blob/main/Lab_Loops.ipynb\" target=\"_parent\"><img src=\"https://colab.research.google.com/assets/colab-badge.svg\" alt=\"Open In Colab\"/></a>"
      ]
    },
    {
      "cell_type": "code",
      "execution_count": 6,
      "metadata": {
        "colab": {
          "base_uri": "https://localhost:8080/"
        },
        "id": "lWx-luxICV99",
        "outputId": "92ac2891-9fee-42aa-cb39-b2a061ac5cd9"
      },
      "outputs": [
        {
          "output_type": "stream",
          "name": "stdout",
          "text": [
            "-5\n",
            "-4\n",
            "-3\n",
            "-2\n",
            "-1\n",
            "0\n",
            "1\n",
            "2\n",
            "3\n",
            "4\n"
          ]
        }
      ],
      "source": [
        "#Write a for loop the prints out all the element between -5 and 5 using the range function.\n",
        "for i in range (-5,5):\n",
        "  print (i)"
      ]
    },
    {
      "cell_type": "code",
      "source": [
        "#Print the elements of the following list: Genres=[ 'rock', 'R&B', 'Soundtrack', 'R&B', 'soul', 'pop'] Make sure you follow Python conventions.\n",
        "Genres =[ 'rock', 'R&B', 'Soundtrack', 'R&B', 'soul', 'pop']\n",
        "\n",
        "for genre in Genres:\n",
        "  print (genre)\n",
        "\n"
      ],
      "metadata": {
        "colab": {
          "base_uri": "https://localhost:8080/"
        },
        "id": "X-fAezuCHpg_",
        "outputId": "1b658a2b-8cd8-426d-8d5b-5945217db9dd"
      },
      "execution_count": 17,
      "outputs": [
        {
          "output_type": "stream",
          "name": "stdout",
          "text": [
            "rock\n",
            "R&B\n",
            "Soundtrack\n",
            "R&B\n",
            "soul\n",
            "pop\n"
          ]
        }
      ]
    },
    {
      "cell_type": "code",
      "source": [
        "#Write a for loop that prints out the following list: squares=['red', 'yellow', 'green', 'purple', 'blue']\n",
        "squares=['red', 'yellow', 'green', 'purple', 'blue']\n",
        "\n",
        "for square in squares:\n",
        "  print (square)\n",
        "\n"
      ],
      "metadata": {
        "colab": {
          "base_uri": "https://localhost:8080/"
        },
        "id": "rbOoiKEeJXnc",
        "outputId": "82191e29-73a2-47fc-fd26-47e730bb4dfb"
      },
      "execution_count": 19,
      "outputs": [
        {
          "output_type": "stream",
          "name": "stdout",
          "text": [
            "red\n",
            "yellow\n",
            "green\n",
            "purple\n",
            "blue\n"
          ]
        }
      ]
    },
    {
      "cell_type": "code",
      "source": [
        "#Write a while loop to display the values of the Rating of an album playlist stored in the list PlayListRatings.\n",
        "#If the score is less than 6, exit the loop. The list PlayListRatings is given by: PlayListRatings = [10, 9.5, 10, 8, 7.5, 5, 10, 10]\n",
        "PlayListRatings = [10, 9.5, 10, 8, 7.5, 5, 10, 10]\n",
        "i = 0\n",
        "play = PlayListRatings[0]\n",
        "\n",
        "while (play > 6):\n",
        "  print (play)\n",
        "  i = i + 1\n",
        "  play = PlayListRatings[i]\n",
        "\n",
        "print (\"It took \", i ,\"repetitions to get out of loop.\")\n",
        "\n"
      ],
      "metadata": {
        "colab": {
          "base_uri": "https://localhost:8080/"
        },
        "id": "mRCvVgp8JbHa",
        "outputId": "11cc6aec-7b98-4925-e3b0-5530635b4672"
      },
      "execution_count": 35,
      "outputs": [
        {
          "output_type": "stream",
          "name": "stdout",
          "text": [
            "10\n",
            "9.5\n",
            "10\n",
            "8\n",
            "7.5\n",
            "It took  5 repetitions to get out of loop.\n"
          ]
        }
      ]
    },
    {
      "cell_type": "code",
      "source": [
        "#Write a while loop to copy the strings 'orange' of the list squares to the list new_squares.\n",
        "#Stop and exit the loop if the value on the list is not 'orange':\n",
        "\n",
        "squares = ['orange', 'orange', 'purple', 'blue ', 'orange']\n",
        "new_squares = []\n",
        "i=0\n",
        "while(i < len(squares) and squares[i] == 'orange'):\n",
        "  new_squares.append(squares[i])\n",
        "  i=i+1\n",
        "print (new_squares)\n",
        "\n",
        "\n",
        "\n",
        "\n",
        "\n"
      ],
      "metadata": {
        "colab": {
          "base_uri": "https://localhost:8080/"
        },
        "id": "j6BGSku6L8Yt",
        "outputId": "df313c1a-6b91-409a-8963-8f8195b68a03"
      },
      "execution_count": 45,
      "outputs": [
        {
          "output_type": "stream",
          "name": "stdout",
          "text": [
            "['orange', 'orange']\n"
          ]
        }
      ]
    },
    {
      "cell_type": "code",
      "source": [
        "#Your little brother has just learned multiplication tables in school.\n",
        "#Today he has learned tables of 6 and 7. Help him memorise both the tables by printing them using for loop.\n",
        "print ('------Multiplication of 6-------')\n",
        "for i in range (10):\n",
        "  print ('6*',i)\n",
        "  print (6*i)\n",
        "print ('------Multiplication of 7-------')\n",
        "for i in range (10):\n",
        "  print ('7*',i)\n",
        "  print (7*i)"
      ],
      "metadata": {
        "colab": {
          "base_uri": "https://localhost:8080/"
        },
        "id": "w-Ywwz-qN7TK",
        "outputId": "11668c28-28e7-40eb-9289-291649ed230b"
      },
      "execution_count": 60,
      "outputs": [
        {
          "output_type": "stream",
          "name": "stdout",
          "text": [
            "------Multiplication of 6-------\n",
            "6* 0\n",
            "0\n",
            "6* 1\n",
            "6\n",
            "6* 2\n",
            "12\n",
            "6* 3\n",
            "18\n",
            "6* 4\n",
            "24\n",
            "6* 5\n",
            "30\n",
            "6* 6\n",
            "36\n",
            "6* 7\n",
            "42\n",
            "6* 8\n",
            "48\n",
            "6* 9\n",
            "54\n",
            "------Multiplication of 7-------\n",
            "7* 0\n",
            "0\n",
            "7* 1\n",
            "7\n",
            "7* 2\n",
            "14\n",
            "7* 3\n",
            "21\n",
            "7* 4\n",
            "28\n",
            "7* 5\n",
            "35\n",
            "7* 6\n",
            "42\n",
            "7* 7\n",
            "49\n",
            "7* 8\n",
            "56\n",
            "7* 9\n",
            "63\n"
          ]
        }
      ]
    },
    {
      "cell_type": "code",
      "source": [
        "#The following is a list of animals in a National Zoo. Animals = [\"lion\", \"giraffe\", \"gorilla\", \"parrots\", \"crocodile\",\"deer\", \"swan\"]\n",
        "\n",
        "#Your brother needs to write an essay on the animals whose names are made of 7 letters.\n",
        "#Help him find those animals through a while loop and create a separate list of such animals.\n",
        "\n",
        "animals = [\"lion\", \"giraffe\", \"gorilla\", \"parrots\", \"crocodile\",\"deer\", \"swan\"]\n",
        "\n",
        "newanimals = []\n",
        "i=0\n",
        "j=0\n",
        "while i<len(animals):\n",
        "  j=animals[i]\n",
        "  if len(j)==7:\n",
        "    newanimals.append(j)\n",
        "  i=i+1\n",
        "print(newanimals)\n",
        "\n",
        "\n"
      ],
      "metadata": {
        "colab": {
          "base_uri": "https://localhost:8080/"
        },
        "id": "eQjjU5LnPsbp",
        "outputId": "66e0a986-df30-49be-c19f-2ad8b4d2ee0a"
      },
      "execution_count": 69,
      "outputs": [
        {
          "output_type": "stream",
          "name": "stdout",
          "text": [
            "['giraffe', 'gorilla', 'parrots']\n"
          ]
        }
      ]
    }
  ]
}